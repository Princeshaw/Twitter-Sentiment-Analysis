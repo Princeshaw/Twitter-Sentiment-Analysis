{
 "cells": [
  {
   "cell_type": "code",
   "execution_count": 11,
   "metadata": {},
   "outputs": [],
   "source": [
    "import tweepy\n",
    "import json"
   ]
  },
  {
   "cell_type": "code",
   "execution_count": 12,
   "metadata": {},
   "outputs": [],
   "source": [
    "json_file = open(\"twitter_credential.json\",)\n",
    "credential = json.load(json_file)"
   ]
  },
  {
   "cell_type": "code",
   "execution_count": 13,
   "metadata": {},
   "outputs": [],
   "source": [
    "consumer_key = credential[\"consumer_key\"]\n",
    "consumer_secret = credential[\"consumer_secret\"]\n",
    "access_token = credential[\"access_token\"]\n",
    "access_token_secret = credential[\"access_token_secret\"]"
   ]
  },
  {
   "cell_type": "code",
   "execution_count": 14,
   "metadata": {},
   "outputs": [
    {
     "name": "stdout",
     "output_type": "stream",
     "text": [
      "Check out Just the Tip of Pornhub's IGTV 😜Guest-starring @thekiranoir, @rileyreidx3, @DemiSutra, and… https://t.co/odRYWQTEHK\n",
      "It was an honor and a privilege to get to train with @yacoubianmta. Hands down the best Muay Thai coach I’ve ever h… https://t.co/sFaWnn5arK\n",
      "RT @JimBridenstine: .@NASA has been making great strides towards sending the first woman and next man to the Moon! Check out some of the wo…\n",
      "RT @ValeNappi: Thank you @Pornhub https://t.co/8eSkWMWisr\n",
      "🎵  Did you know @Beck's music videos for his album Hyperspace merge artificial intelligence with NASA images?… https://t.co/223ipKffiZ\n",
      "Thank you and thank you all for your love \n",
      "Obrigado a todos pelo amor 💖 https://t.co/VMUn4bjCLo\n",
      "RT @NASAInterns: Today, we’re welcoming our fall #NASAInterns! Over 400 students from across the U.S. will virtually contribute to @NASA mi…\n",
      "Need a @NASAPersevere update?\n",
      "\n",
      "Use @NASA_Eyes to follow our rover — and the Ingenuity Mars Helicopter traveling wit… https://t.co/I0Cod394BI\n",
      "RT @miketreichert: This mf said “instead, they got me!”  Yessssssssssss. I’m about to FSU with this. Eff. Shhhhh. Upp. Said it. Meant it.\n",
      "THANK YOU #DCFanDome for that absolutely electrifying love and hype for our #BLACKADAM panel. \n",
      "We’re deeply committ… https://t.co/Z5BMYrGBJs\n",
      "Most planets in our Milky Way orbit stars, but some are rogue — drifting through the galaxy completely alone.\n",
      "\n",
      "How… https://t.co/RvSpAjZuyx\n",
      "RT @NASASun: This #SunDay, learn how the Sun’s early behavior influenced the development of life on Earth — and what that means for @NASAAs…\n",
      "The JRE @dsgear rugged hemp backpacks are back in stock at https://t.co/kIu2N81HdV https://t.co/a05zRKfHaa\n",
      "RT @AsteroidWatch: Asteroid 2018VP1 is very small, approx. 6.5 feet, and poses no threat to Earth! It currently has a 0.41% chance of enter…\n",
      "Thank you to @felixlosangeles for another amazing meal.  This place embodies fine art in food form! I’m so happy th… https://t.co/k21K4zjfsn\n",
      "Meeting cougars, cuddling fantasy, female fetishes? New Q&amp;A with @DrLaurieBetito out now: Experimenting With Fetish… https://t.co/sjJ8kqooyk\n",
      "RT @NASAKennedy: Looking for some weekend plans? 🤔\n",
      "\n",
      "Learn step-by-step how to draw the iconic Vehicle Assembly Building, where @NASA_SLS an…\n",
      "RT @ComicBook: #BlackAdam is \"one of the most powerful superheroes, anti-heroes, villains, whatever you want to call him.\" @TheRock welcome…\n",
      "RT @DenofGeekUS: Get your first look at Hawkman and the DCEU version of the JSA thanks to this badass #BlackAdam concept art @therock   Dwa…\n",
      "RT @RenGeekness: I want people who know little about Doctor Fate to keep it that way, just so they can be as surprised as possible when dis…\n"
     ]
    }
   ],
   "source": [
    "auth = tweepy.OAuthHandler(consumer_key, consumer_secret)\n",
    "auth.set_access_token(access_token, access_token_secret)\n",
    "\n",
    "api = tweepy.API(auth)\n",
    "\n",
    "public_tweets = api.home_timeline()\n",
    "for tweet in public_tweets:\n",
    "    print(tweet.text)"
   ]
  },
  {
   "cell_type": "code",
   "execution_count": null,
   "metadata": {},
   "outputs": [],
   "source": []
  }
 ],
 "metadata": {
  "kernelspec": {
   "display_name": "Python 3",
   "language": "python",
   "name": "python3"
  },
  "language_info": {
   "codemirror_mode": {
    "name": "ipython",
    "version": 3
   },
   "file_extension": ".py",
   "mimetype": "text/x-python",
   "name": "python",
   "nbconvert_exporter": "python",
   "pygments_lexer": "ipython3",
   "version": "3.7.4"
  }
 },
 "nbformat": 4,
 "nbformat_minor": 2
}
